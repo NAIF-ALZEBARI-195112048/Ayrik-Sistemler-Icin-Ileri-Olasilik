{
  "nbformat": 4,
  "nbformat_minor": 0,
  "metadata": {
    "colab": {
      "name": "Permütasyon&Kombinasyon Ödev_2.ipynb",
      "provenance": [],
      "collapsed_sections": []
    },
    "kernelspec": {
      "name": "python3",
      "display_name": "Python 3"
    },
    "language_info": {
      "name": "python"
    }
  },
  "cells": [
    {
      "cell_type": "markdown",
      "source": [
        "## EN\n",
        "# Permutation and Combination Problem:\n",
        "\n",
        "**Example : In a race of 15 horses you beleive that you know the best 4 horses and that 3 of them will finish in the top spots: win, place and show (1st, 2nd and 3rd). So out of that set of 4 horses you want to pick the subset of 3 winners and the order in which they finish. How many different permutations are there for the top 3 from the 4 best horses?**\n",
        "\n",
        "# 1- Permutation\n",
        "For this problem we are looking for an ordered subset of 3 horses (r) from the set of 4 best horses (n). We are ignoring the other 11 horses in this race of 15 because they do not apply to our problem. We must calculate P(4,3) in order to find the total number of possible outcomes for the top 3 winners.\n",
        "\n",
        "**P(4,3) = 4! / (4 - 3)! = 24 Possible Race Results**\n",
        "\n",
        " If our 4 top horses have the numbers 1, 2, 3 and 4 our 24 potential **permutations** for the winning 3 are:**{1,2,3}, {1,3,2}, {1,2,4}, {1,4,2}, {1,3,4}, {1,4,3}, {2,1,3}, {2,3,1}, {2,1,4}, {2,4,1}, {2,3,4}, {2,4,3}, {3,1,2}, {3,2,1}, {3,1,4}, {3,4,1}, {3,2,4}, {3,4,2}, {4,1,2}, {4,2,1}, {4,1,3}, {4,3,1}, {4,2,3}, {4,3,2}**\n",
        "\n",
        "#  2- Combination\n",
        "3 horses (r) from the set of 4 best horses (n). Looking at the formula, we must calculate “4 choose 3.”\n",
        "\n",
        "**C(4,3)= 4!/(3! * (4-3)!) = 4!/(3! * 1!) = 4 Possible Race Results**\n",
        "\n",
        "If our 4 top horses have the numbers 1, 2, 3 and 4 our 4 potential **Combinations** for the winning 3 are: **{1,2,3}, {1,2,4}, {1,3,4}, {2,3,4}**.\n",
        "\n",
        "---\n",
        "\n",
        "---"
      ],
      "metadata": {
        "id": "MsqlNpZfYoHW"
      }
    },
    {
      "cell_type": "markdown",
      "source": [
        "## TR:\n",
        "# Permütasyon ve Kombinasyon Problemi:\n",
        "\n",
        "**Örnek: 15 atlık bir yarışta, en iyi 4 atı tanıdığınıza ve 3'ünün en üst sıralarda bitireceğine inanıyorsunuz: kazan, sırala ve göster (1., 2. ve 3.). Yani bu 4 atlı setten 3 kazananın alt grubunu ve onların bitirdiği sırayı seçmek istiyorsunuz. En iyi 4 attan ilk 3 için kaç farklı permütasyon var?**\n",
        "\n",
        "\n",
        "# 1- Permütasyon\n",
        "Bu problem için en iyi 4 at (n) kümesinden sıralı 3 atın (r) alt kümesini arıyoruz. Bu 15 kişilik yarışta diğer 11 atı bizim sorunumuz için geçerli olmadığı için görmezden geliyoruz. İlk 3 kazanan için olası sonuçların toplam sayısını bulmak için P(4,3)'ü hesaplamalıyız.\n",
        "\n",
        "**P(4,3) = 4! / (4 - 3)! = 24 Olası Yarış Sonuçları**\n",
        "\n",
        "En iyi 4 atımız 1, 2, 3 ve 4 sayılarına sahipse, kazanan 3 için 24 potansiyel **permütasyonumuz** **{1,2,3}, {1,3,2}, {1,2,4}, {1 ,4,2}, {1,3,4}, {1,4,3}, {2,1,3}, {2,3,1}, {2,1,4}, {2,4 ,1}, {2,3,4,}, {2,4,3}, {3,1,2}, {3,2,1}, {3,1,4}, {3,4,1 }, {3,2,4}, {3,4,2}, {4,1,2}, {4,2,1}, {4,1,3}, {4,3,1}, {4,2,3}, {4,3,2}**\n",
        "\n",
        "# 2- Kombinasyon\n",
        "En iyi 4 at (n) setinden 3 at (r). Formüle bakarak “4 seç 3”ü hesaplamalıyız.\n",
        "\n",
        "**C(4,3)= 4!/(3! * (4-3)!) = 4!/(3! * 1!) = 4 Olası Yarış Sonucu**\n",
        "\n",
        "En iyi 4 atımız 1, 2, 3 ve 4 sayılarına sahipse, kazanan 3 için 4 potansiyel **Kombinasyonumuz** **{1,2,3}, {1,2,4}, {1,3,4}, {2,3,4}.**"
      ],
      "metadata": {
        "id": "vjDH4GrLaxCn"
      }
    },
    {
      "cell_type": "code",
      "execution_count": 24,
      "metadata": {
        "colab": {
          "base_uri": "https://localhost:8080/"
        },
        "id": "O-MnUc7yz333",
        "outputId": "b57b8e28-4996-4278-892e-f985dbb47c47"
      },
      "outputs": [
        {
          "output_type": "stream",
          "name": "stdout",
          "text": [
            "\n",
            " 1= Permütasyon Sonuçu (PERMUTATION) : \n",
            " 2= Kombinasyon Sonuçu (COMBINATION) : \n",
            " 3= Permütasyon ve Kombinasyon Sonuçu : \n",
            " Lütfen 1 veya 2'yi veta 3'yi Seçin (Please Selection 1 or 2 or 3): 3\n",
            "\n",
            " Permütasyon (Permutations)= 24.0\n",
            "Perm: (1, 2, 3)\n",
            "Perm: (1, 2, 4)\n",
            "Perm: (1, 3, 2)\n",
            "Perm: (1, 3, 4)\n",
            "Perm: (1, 4, 2)\n",
            "Perm: (1, 4, 3)\n",
            "Perm: (2, 1, 3)\n",
            "Perm: (2, 1, 4)\n",
            "Perm: (2, 3, 1)\n",
            "Perm: (2, 3, 4)\n",
            "Perm: (2, 4, 1)\n",
            "Perm: (2, 4, 3)\n",
            "Perm: (3, 1, 2)\n",
            "Perm: (3, 1, 4)\n",
            "Perm: (3, 2, 1)\n",
            "Perm: (3, 2, 4)\n",
            "Perm: (3, 4, 1)\n",
            "Perm: (3, 4, 2)\n",
            "Perm: (4, 1, 2)\n",
            "Perm: (4, 1, 3)\n",
            "Perm: (4, 2, 1)\n",
            "Perm: (4, 2, 3)\n",
            "Perm: (4, 3, 1)\n",
            "Perm: (4, 3, 2)\n",
            "\n",
            " Kombinasyon (Combinations)= 4.0\n",
            "Comb: (1, 2, 3)\n",
            "Comb: (1, 2, 4)\n",
            "Comb: (1, 3, 4)\n",
            "Comb: (2, 3, 4)\n",
            "<function PnrAndCnr at 0x7f3172c838c0>\n"
          ]
        }
      ],
      "source": [
        "\n",
        "from math import factorial\n",
        "from itertools import permutations \n",
        "from itertools import combinations \n",
        "\n",
        "selection = input(\"\\n 1= Permütasyon Sonuçu (PERMUTATION) : \\n 2= Kombinasyon Sonuçu (COMBINATION) : \\n 3= Permütasyon ve Kombinasyon Sonuçu : \\n Lütfen 1 veya 2'yi veta 3'yi Seçin (Please Selection 1 or 2 or 3): \")\n",
        "\n",
        "n=4\n",
        "r=3\n",
        "\n",
        "                # Permütasyon (PERMUTATION)\n",
        "def Pnr(n,r):\n",
        "    perm = permutations([1, 2, 3, 4], r) \n",
        "    print(\"\\n Permitasyon (Permutations)=\",(factorial(n)/(factorial(n-r))))\n",
        "    for i in list(perm): \n",
        "      print (\"Perm:\",i)\n",
        "\n",
        "                # Kombinasyon (COMBINATION)\n",
        "def Cnr(n,r):\n",
        "    comb = combinations([1,2,3, 4], r) \n",
        "    print(\"\\n Kombinasyon (Combinations)=\",factorial(n)/(factorial(r)*factorial(n-r)))\n",
        "    for i in list(comb): \n",
        "      print (\"Comb:\",i)\n",
        "      \n",
        "               # Permütasyon (PERMUTATION) -AND- Kombinasyon (COMBINATION)\n",
        "\n",
        "def PnrAndCnr(n,r):\n",
        "    perm = permutations([1, 2, 3, 4], r) \n",
        "    print(\"\\n Permütasyon (Permutations)=\",(factorial(n)/(factorial(n-r))))\n",
        "    for i in list(perm): \n",
        "      print (\"Perm:\",i)\n",
        "    comb = combinations([1,2,3, 4], r) \n",
        "    print(\"\\n Kombinasyon (Combinations)=\",factorial(n)/(factorial(r)*factorial(n-r)))\n",
        "    for i in list(comb): \n",
        "      print (\"Comb:\",i)\n",
        "switcher = {\n",
        "    1: Pnr,\n",
        "    2: Cnr,\n",
        "    3: PnrAndCnr,\n",
        "}\n",
        "h = switcher.get(int(selection))\n",
        "h(int(n),int(r))\n",
        "print(h)"
      ]
    },
    {
      "cell_type": "markdown",
      "source": [
        ""
      ],
      "metadata": {
        "id": "1RKieZCUYmuI"
      }
    }
  ]
}