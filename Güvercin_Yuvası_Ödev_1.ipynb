{
  "nbformat": 4,
  "nbformat_minor": 0,
  "metadata": {
    "colab": {
      "name": "Güvercin Yuvası Ödev 1.ipynb",
      "provenance": [],
      "collapsed_sections": []
    },
    "kernelspec": {
      "name": "python3",
      "display_name": "Python 3"
    },
    "language_info": {
      "name": "python"
    }
  },
  "cells": [
    {
      "cell_type": "markdown",
      "source": [
        "## EN\n",
        "# Write programming using the Python language, and using the law (the pigeonhole principle) solve the following question:\n",
        "\n",
        " **Qustion** : A bag contains 15 red Ball, 15 white Ball, 15  black Ball and 15 blue Ball. What is the minimum number of Ball you have to choose randomly from the bag to ensure that we get 5 Ball of same color?\n",
        "\n",
        " **Solution**: Apply pigeonhole principle.\n",
        "\n",
        "Total Ball are ***T= 60***\n",
        "\n",
        "The number for each color type ***C=15***\n",
        "\n",
        "If we say number of colors = number of pigeonholes ***y= 4***;\n",
        "\n",
        "If we say the number of pigeons ***g= 5*** to the balls;\n",
        "\n",
        "\n",
        "If we draw **17 ball**s randomly, **5 balls** will be of the same color. ceil\n",
        "\n",
        "**⎡17/4⎤ = 5**\n",
        "\n",
        "# i.e., 4 red + 4 white + 4 blue + 4 black+ 1(red or white or blue or black)=17"
      ],
      "metadata": {
        "id": "rBjwy0GrgPC3"
      }
    },
    {
      "cell_type": "markdown",
      "source": [
        "## TR\n",
        "# Python dilini kullanarak programlama yazın ve yasayı (güvercin yuvası ilkesi) kullanarak aşağıdaki soruyu çözün:\n",
        "\n",
        "**Soru** : Bir torbada 15 Kırmızı Top, 15 Beyaz Top, 15 Siyah Top ve 15 Mavi Top bulunmaktadır. Aynı renkten 5 Top elde etmemiz için torbadan rastgele seçmeniz gereken minimum Top sayısı nedir?\n",
        "\n",
        "**Çözüm**: Güvercin deliği ilkesini uygulayın.\n",
        "\n",
        "Toplam Top ***T= 60***\n",
        "\n",
        " Her renk türü için sayı ***C=15***\n",
        "\n",
        "Renk sayısına güvercin yuvası sayısı ***y= 4*** ;\n",
        "\n",
        "Toplara da güvercin sayısı ***g= 5*** ;\n",
        "\n",
        "***17 tane rastgele*** şekilde top çekmemiz durumunda ***5 adet top*** aynı renk olur.\n",
        "\n",
        "[17/4]=5\n",
        "\n",
        "# yani, 4 kırmızı + 4 beyaz + 4 mavi + 4 siyah + 1(kırmızı veya beyaz veya mavi veya siyah)=17"
      ],
      "metadata": {
        "id": "zwWb628m74py"
      }
    },
    {
      "cell_type": "code",
      "execution_count": 58,
      "metadata": {
        "colab": {
          "base_uri": "https://localhost:8080/"
        },
        "id": "D07dpNhIGI_f",
        "outputId": "f5632dec-c80e-4304-b8cb-f0a2c57735a0"
      },
      "outputs": [
        {
          "output_type": "stream",
          "name": "stdout",
          "text": [
            "\n",
            "Kirmizi(Red) : ['R', 'R', 'R', 'R', 'R', 'R', 'R', 'R', 'R', 'R', 'R', 'R', 'R', 'R', 'R'] = 15\n",
            "Mavi (Blue) : ['B', 'B', 'B', 'B', 'B', 'B', 'B', 'B', 'B', 'B', 'B', 'B', 'B', 'B', 'B'] = 15\n",
            "Beyaz (White): ['W', 'W', 'W', 'W', 'W', 'W', 'W', 'W', 'W', 'W', 'W', 'W', 'W', 'W', 'W'] = 15\n",
            "Siyah (Black) : ['Bl', 'Bl', 'Bl', 'Bl', 'Bl', 'Bl', 'Bl', 'Bl', 'Bl', 'Bl', 'Bl', 'Bl', 'Bl', 'Bl', 'Bl'] = 15 \n",
            "\n",
            "Toplam_Renkler(Total_Color) : 60 = ['R', 'W', 'B', 'R', 'R', 'W', 'R', 'Bl', 'Bl', 'B', 'Bl', 'B', 'W', 'Bl', 'W', 'W', 'B', 'W', 'Bl', 'W', 'Bl', 'B', 'B', 'B', 'R', 'Bl', 'R', 'Bl', 'Bl', 'B', 'W', 'R', 'Bl', 'W', 'Bl', 'R', 'R', 'R', 'W', 'Bl', 'B', 'R', 'R', 'B', 'Bl', 'W', 'B', 'W', 'B', 'Bl', 'B', 'R', 'B', 'R', 'Bl', 'R', 'W', 'W', 'W', 'B']\n",
            "\n",
            "Secilen top sayisi (number of balls selected) : 16\n",
            "Secilen kirmizi (Selected_red) : ['R', 'R', 'R', 'R'] = 4 tane(Piece)\n",
            "Secilen mavi (Selected_blue)   : ['B', 'B', 'B'] = 3 tane(Piece)\n",
            "Secilen beyaz (Selected_white) : ['W', 'W', 'W', 'W', 'W'] = 5 tane(Piece)\n",
            "Secilen siyah (Selected_black) : ['Bl', 'Bl', 'Bl', 'Bl'] = 4 tane(Piece) \n",
            "\n"
          ]
        }
      ],
      "source": [
        "from random import shuffle\n",
        "\n",
        "Red = []\n",
        "Blue = []\n",
        "White = []\n",
        "Black = []\n",
        "\n",
        "# dizilere renkleri doldur\n",
        "# fill colors in arrays\n",
        "C =15\n",
        "\n",
        "for i in range(C):\n",
        "    Red.append('R')\n",
        "    Blue.append('B')\n",
        "    White.append('W')\n",
        "    Black.append('Bl')\n",
        "print('\\nKirmizi(Red) : {}'.format(Red),'=',(len(Red)))\n",
        "print('Mavi (Blue) : {}'.format(Blue),'=',(len(Blue)))\n",
        "print('Beyaz (White): {}'.format(White),'=',(len(White)))\n",
        "print('Siyah (Black) : {}'.format(Black),'=',(len(Black)),'\\n')\n",
        "Total_Colors = []\n",
        "\n",
        "# tum renkler dizisi olustur renkler sirali cekilmeyecegi icin karistir\n",
        "# create an array of all colors mix the colors as they will not be drawn sequentially\n",
        "\n",
        "Total_Colors = Red + Blue + White + Black\n",
        "shuffle(Total_Colors)\n",
        "\n",
        "print('Toplam_Renkler(Total_Color) : {} = {}\\n'.format(len(Total_Colors), Total_Colors ))\n",
        "\n",
        "Selected_red = []\n",
        "Selected_blue = []\n",
        "Selected_white = []\n",
        "Selected_black = []\n",
        "\n",
        "for i in range(C*4):\n",
        "    Selected_color = Total_Colors[i]\n",
        "    if Selected_color == 'R':\n",
        "        Selected_red.append('R')\n",
        "    elif Selected_color == 'B':\n",
        "        Selected_blue.append('B')\n",
        "    elif Selected_color == 'W':\n",
        "        Selected_white.append('W')\n",
        "    elif Selected_color == 'Bl':\n",
        "        Selected_black.append('Bl')\n",
        "\n",
        "    # tum renklerden en az 5 tane secilmis ise secmeyi birak\n",
        "    if len(Selected_red) >= 5 or len(Selected_blue) >= 5 or len(Selected_white) >= 5  or len(Selected_black) >= 5:\n",
        "        print('Secilen top sayisi (number of balls selected) : {}'.format(i+1))\n",
        "        print('Secilen kirmizi (Selected_red) : {} = {} tane(Piece)'.format(Selected_red,  len(Selected_red)))\n",
        "        print('Secilen mavi (Selected_blue)   : {} = {} tane(Piece)'.format(Selected_blue, len(Selected_blue)))\n",
        "        print('Secilen beyaz (Selected_white) : {} = {} tane(Piece)'.format(Selected_white, len(Selected_white)))\n",
        "        print('Secilen siyah (Selected_black) : {} = {} tane(Piece) \\n'.format(Selected_black,  len(Selected_black)))\n",
        "        break\n"
      ]
    }
  ]
}